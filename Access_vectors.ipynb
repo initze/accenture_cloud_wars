{
 "cells": [
  {
   "cell_type": "markdown",
   "id": "boring-sleeve",
   "metadata": {},
   "source": [
    "## Notebook for Accenture Cloudwars\n",
    "### Assess Ground Truth data\n",
    "\n",
    "Date: 2021-02-09\n",
    "\n",
    "Author: Ingmar Nitze\n",
    "\n",
    "Contact: ingmar.nitze@awi.de"
   ]
  },
  {
   "cell_type": "code",
   "execution_count": 1,
   "id": "charitable-hebrew",
   "metadata": {},
   "outputs": [],
   "source": [
    "import geopandas as gpd"
   ]
  },
  {
   "cell_type": "markdown",
   "id": "novel-logic",
   "metadata": {},
   "source": [
    "### Settings\n",
    "Link to data: https://1drv.ms/u/s!AobXXrP933xWhIYvHYNwua_xK3piDw?e=BILn9c\n"
   ]
  },
  {
   "cell_type": "code",
   "execution_count": 2,
   "id": "verified-shame",
   "metadata": {},
   "outputs": [],
   "source": [
    "INFILE = r'data/merged_thaw_slumps_validated.shp'"
   ]
  },
  {
   "cell_type": "markdown",
   "id": "floating-intention",
   "metadata": {},
   "source": [
    "#### Open file "
   ]
  },
  {
   "cell_type": "code",
   "execution_count": 3,
   "id": "acute-passage",
   "metadata": {},
   "outputs": [],
   "source": [
    "df = gpd.read_file(INFILE)"
   ]
  },
  {
   "cell_type": "markdown",
   "id": "checked-consultancy",
   "metadata": {},
   "source": [
    "#### get center coordinates "
   ]
  },
  {
   "cell_type": "code",
   "execution_count": 6,
   "id": "front-apache",
   "metadata": {},
   "outputs": [
    {
     "name": "stderr",
     "output_type": "stream",
     "text": [
      "<ipython-input-6-7b53814f6c7c>:1: UserWarning: Geometry is in a geographic CRS. Results from 'centroid' are likely incorrect. Use 'GeoSeries.to_crs()' to re-project geometries to a projected CRS before this operation.\n",
      "\n",
      "  df.geometry.centroid\n"
     ]
    },
    {
     "data": {
      "text/plain": [
       "0       POINT (124.43463 69.14881)\n",
       "1       POINT (124.46113 69.13897)\n",
       "2       POINT (124.43300 69.14562)\n",
       "3       POINT (124.36023 69.09896)\n",
       "4       POINT (124.46190 69.13371)\n",
       "                   ...            \n",
       "1198     POINT (48.40812 69.31639)\n",
       "1199     POINT (48.41369 69.31957)\n",
       "1200     POINT (48.38821 69.30503)\n",
       "1201     POINT (48.38969 69.30572)\n",
       "1202     POINT (48.40282 69.31370)\n",
       "Length: 1203, dtype: geometry"
      ]
     },
     "execution_count": 6,
     "metadata": {},
     "output_type": "execute_result"
    }
   ],
   "source": [
    "df.geometry.centroid"
   ]
  },
  {
   "cell_type": "code",
   "execution_count": null,
   "id": "cordless-straight",
   "metadata": {},
   "outputs": [],
   "source": []
  },
  {
   "cell_type": "code",
   "execution_count": 9,
   "id": "modern-response",
   "metadata": {},
   "outputs": [
    {
     "data": {
      "text/html": [
       "<div>\n",
       "<style scoped>\n",
       "    .dataframe tbody tr th:only-of-type {\n",
       "        vertical-align: middle;\n",
       "    }\n",
       "\n",
       "    .dataframe tbody tr th {\n",
       "        vertical-align: top;\n",
       "    }\n",
       "\n",
       "    .dataframe thead th {\n",
       "        text-align: right;\n",
       "    }\n",
       "</style>\n",
       "<table border=\"1\" class=\"dataframe\">\n",
       "  <thead>\n",
       "    <tr style=\"text-align: right;\">\n",
       "      <th></th>\n",
       "      <th>index</th>\n",
       "      <th>label</th>\n",
       "      <th>id</th>\n",
       "      <th>image_id</th>\n",
       "      <th>image_date</th>\n",
       "      <th>geometry</th>\n",
       "    </tr>\n",
       "  </thead>\n",
       "  <tbody>\n",
       "    <tr>\n",
       "      <th>0</th>\n",
       "      <td>0</td>\n",
       "      <td>1</td>\n",
       "      <td>0</td>\n",
       "      <td>20180702_025400_0f31</td>\n",
       "      <td>2018-07-02</td>\n",
       "      <td>POLYGON ((124.43470 69.14794, 124.43420 69.147...</td>\n",
       "    </tr>\n",
       "    <tr>\n",
       "      <th>1</th>\n",
       "      <td>1</td>\n",
       "      <td>1</td>\n",
       "      <td>1</td>\n",
       "      <td>20180702_025400_0f31</td>\n",
       "      <td>2018-07-02</td>\n",
       "      <td>POLYGON ((124.45902 69.13850, 124.45866 69.138...</td>\n",
       "    </tr>\n",
       "    <tr>\n",
       "      <th>2</th>\n",
       "      <td>2</td>\n",
       "      <td>1</td>\n",
       "      <td>2</td>\n",
       "      <td>20180702_025400_0f31</td>\n",
       "      <td>2018-07-02</td>\n",
       "      <td>POLYGON ((124.43140 69.14645, 124.43183 69.146...</td>\n",
       "    </tr>\n",
       "    <tr>\n",
       "      <th>3</th>\n",
       "      <td>3</td>\n",
       "      <td>1</td>\n",
       "      <td>3</td>\n",
       "      <td>20180702_025400_0f31</td>\n",
       "      <td>2018-07-02</td>\n",
       "      <td>POLYGON ((124.36242 69.09937, 124.36246 69.099...</td>\n",
       "    </tr>\n",
       "    <tr>\n",
       "      <th>4</th>\n",
       "      <td>4</td>\n",
       "      <td>1</td>\n",
       "      <td>4</td>\n",
       "      <td>20180702_025400_0f31</td>\n",
       "      <td>2018-07-02</td>\n",
       "      <td>POLYGON ((124.45975 69.13288, 124.45988 69.133...</td>\n",
       "    </tr>\n",
       "    <tr>\n",
       "      <th>...</th>\n",
       "      <td>...</td>\n",
       "      <td>...</td>\n",
       "      <td>...</td>\n",
       "      <td>...</td>\n",
       "      <td>...</td>\n",
       "      <td>...</td>\n",
       "    </tr>\n",
       "    <tr>\n",
       "      <th>1198</th>\n",
       "      <td>2</td>\n",
       "      <td>1</td>\n",
       "      <td>2</td>\n",
       "      <td>20190921_080322_1011</td>\n",
       "      <td>2019-09-21</td>\n",
       "      <td>POLYGON ((48.40274 69.31581, 48.40531 69.31720...</td>\n",
       "    </tr>\n",
       "    <tr>\n",
       "      <th>1199</th>\n",
       "      <td>3</td>\n",
       "      <td>1</td>\n",
       "      <td>3</td>\n",
       "      <td>20190921_080322_1011</td>\n",
       "      <td>2019-09-21</td>\n",
       "      <td>POLYGON ((48.41243 69.32163, 48.41893 69.32072...</td>\n",
       "    </tr>\n",
       "    <tr>\n",
       "      <th>1200</th>\n",
       "      <td>4</td>\n",
       "      <td>1</td>\n",
       "      <td>4</td>\n",
       "      <td>20190921_080322_1011</td>\n",
       "      <td>2019-09-21</td>\n",
       "      <td>POLYGON ((48.38733 69.30482, 48.38771 69.30511...</td>\n",
       "    </tr>\n",
       "    <tr>\n",
       "      <th>1201</th>\n",
       "      <td>5</td>\n",
       "      <td>1</td>\n",
       "      <td>5</td>\n",
       "      <td>20190921_080322_1011</td>\n",
       "      <td>2019-09-21</td>\n",
       "      <td>POLYGON ((48.38813 69.30532, 48.38926 69.30609...</td>\n",
       "    </tr>\n",
       "    <tr>\n",
       "      <th>1202</th>\n",
       "      <td>6</td>\n",
       "      <td>1</td>\n",
       "      <td>6</td>\n",
       "      <td>20190921_080322_1011</td>\n",
       "      <td>2019-09-21</td>\n",
       "      <td>POLYGON ((48.40415 69.31276, 48.40371 69.31267...</td>\n",
       "    </tr>\n",
       "  </tbody>\n",
       "</table>\n",
       "<p>1203 rows × 6 columns</p>\n",
       "</div>"
      ],
      "text/plain": [
       "      index label id              image_id  image_date  \\\n",
       "0         0     1  0  20180702_025400_0f31  2018-07-02   \n",
       "1         1     1  1  20180702_025400_0f31  2018-07-02   \n",
       "2         2     1  2  20180702_025400_0f31  2018-07-02   \n",
       "3         3     1  3  20180702_025400_0f31  2018-07-02   \n",
       "4         4     1  4  20180702_025400_0f31  2018-07-02   \n",
       "...     ...   ... ..                   ...         ...   \n",
       "1198      2     1  2  20190921_080322_1011  2019-09-21   \n",
       "1199      3     1  3  20190921_080322_1011  2019-09-21   \n",
       "1200      4     1  4  20190921_080322_1011  2019-09-21   \n",
       "1201      5     1  5  20190921_080322_1011  2019-09-21   \n",
       "1202      6     1  6  20190921_080322_1011  2019-09-21   \n",
       "\n",
       "                                               geometry  \n",
       "0     POLYGON ((124.43470 69.14794, 124.43420 69.147...  \n",
       "1     POLYGON ((124.45902 69.13850, 124.45866 69.138...  \n",
       "2     POLYGON ((124.43140 69.14645, 124.43183 69.146...  \n",
       "3     POLYGON ((124.36242 69.09937, 124.36246 69.099...  \n",
       "4     POLYGON ((124.45975 69.13288, 124.45988 69.133...  \n",
       "...                                                 ...  \n",
       "1198  POLYGON ((48.40274 69.31581, 48.40531 69.31720...  \n",
       "1199  POLYGON ((48.41243 69.32163, 48.41893 69.32072...  \n",
       "1200  POLYGON ((48.38733 69.30482, 48.38771 69.30511...  \n",
       "1201  POLYGON ((48.38813 69.30532, 48.38926 69.30609...  \n",
       "1202  POLYGON ((48.40415 69.31276, 48.40371 69.31267...  \n",
       "\n",
       "[1203 rows x 6 columns]"
      ]
     },
     "execution_count": 9,
     "metadata": {},
     "output_type": "execute_result"
    }
   ],
   "source": [
    "df.to_crs(epsg=4326)"
   ]
  },
  {
   "cell_type": "code",
   "execution_count": null,
   "id": "returning-intention",
   "metadata": {},
   "outputs": [],
   "source": []
  }
 ],
 "metadata": {
  "kernelspec": {
   "display_name": "Python 3",
   "language": "python",
   "name": "python3"
  },
  "language_info": {
   "codemirror_mode": {
    "name": "ipython",
    "version": 3
   },
   "file_extension": ".py",
   "mimetype": "text/x-python",
   "name": "python",
   "nbconvert_exporter": "python",
   "pygments_lexer": "ipython3",
   "version": "3.9.1"
  }
 },
 "nbformat": 4,
 "nbformat_minor": 5
}
